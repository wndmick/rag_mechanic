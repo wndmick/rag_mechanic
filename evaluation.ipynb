{
 "cells": [
  {
   "cell_type": "code",
   "execution_count": 8,
   "metadata": {},
   "outputs": [],
   "source": [
    "import os\n",
    "import re\n",
    "import torch\n",
    "import pandas as pd\n",
    "import streamlit as st\n",
    "\n",
    "import chromadb\n",
    "\n",
    "from models import CustomEmbeddingFunction, Model\n",
    "from db import fill_collection\n",
    "from parser import Parser"
   ]
  },
  {
   "cell_type": "markdown",
   "metadata": {},
   "source": [
    "# Queries and GTs"
   ]
  },
  {
   "cell_type": "code",
   "execution_count": null,
   "metadata": {},
   "outputs": [],
   "source": [
    "queries = [\n",
    "    'I am removing a gas tank. I have removed the main muffer. What is the next step?',\n",
    "    'Rear seat belt warning lamp does not illuminate. How to diagnost it?',\n",
    "    'I think my rear weels alignment is not right. What should I check?',\n",
    "    'What are the steps to remove a coil spring?',\n",
    "    'I am removing a steering weel. What should I do after removing air bag module?',\n",
    "    'What is the first step in removing a steering column?',\n",
    "    'How to disassemble steering gear and linkage?',\n",
    "    'I removed a rear drive shaft. How should I inspect it after removal?',\n",
    "    'I need to install am accelerator control system. What are the steps?',\n",
    "    'There are squeaks in the centre console. What could be the reason of the noise?'\n",
    "]\n",
    "\n",
    "gts = [\n",
    "    'Remove vent hose from filler tube',\n",
    "    '''\n",
    "Diagnosis Procedure\n",
    " 1.CHECK DTC OF “AIR BAG DIAGNOSIS SENSOR UNIT”     \n",
    "Check DTC in “Self Diagnosis Result” “Air bag diagnosis sensor unit” using CONSULT.\n",
    " Is DTC detected?\n",
    " YES >>Perform the trouble diagnosis related to the detected DTC. Refer to SRC-19, \"\n",
    " DTC\n",
    " Index\n",
    " \"\n",
    " .\n",
    " NO >>GO TO 2.\n",
    " 2.CHECK DTC OF “COMBINATION METER” \n",
    "Check DTC in “Self Diagnosis Result” “Air bag diagnosis sensor unit” using CONSULT.\n",
    " Is DTC detected?\n",
    " YES >>Perform the trouble diagnosis related to the detected DTC. Refer to MWI-40, \"\n",
    " DTC Index\n",
    " \"\n",
    " .\n",
    " NO >>GO TO 3\n",
    " 3.CHECK COMBINATION METER POWER SUPPLY AND GROUND CIRCUIT\n",
    " Check combination meter power supply and ground circuit. Refer to MWI-66, \"\n",
    " COMBINATION METER : Diag\n",
    "nosis Procedure\n",
    " \"\n",
    " .\n",
    " Is the inspection result normal?\n",
    " YES >>GO TO 4.\n",
    " NO >>Repair or replace the malfunctioning parts.\n",
    " 4.CHECK HARNESS CONNECTOR\n",
    " Check the harness connector for disconnection, looseness or damage.\n",
    " Is the inspection result normal?\n",
    " YES >>GO TO 5.\n",
    " NO-1 >>damage: Replace malfunctioning parts. \n",
    "NO-2 >>disconnection or looseness: Securely lock the connector.\n",
    " 5.CHECK WIRING HARNESS\n",
    " Check the wiring harness externals.\n",
    " Is the inspection result normal?\n",
    " YES >>GO TO 6.\n",
    " NO >>Replace malfunctioning parts.\n",
    " 6.CHECK REAR SEAT BELT BUCKLE SWITCH\n",
    " Check the applicable rear seat belt buckle switch. Refer to SBC-17, \"\n",
    " Diagnosis Procedure\n",
    " \"\n",
    " .\n",
    " Is the inspection result normal?\n",
    " YES >>GO TO 7.\n",
    " NO >>Replace the applicable rear seat belt buckle.\n",
    " 7.REPLACE AIR BAG DIAGNOSIS SENSOR UNIT\n",
    " 1. Replace air bag diagnosis sensor unit.\n",
    " 2. Check air bag warning lamp operation.\n",
    " Is the inspection result normal?\n",
    " YES >>INSPECTION END\n",
    " NO >>GO TO 8.\n",
    " 8.REPLACE COMBINATION METER\n",
    " 1. Replace combination meter. Refer to MWI-86, \"\n",
    " Removal and Installation\n",
    " \"\n",
    " .\n",
    " 2. Check air bag warning lamp operation.\n",
    " Is the inspection result normal?\n",
    " YES >>INSPECTION END\n",
    " NO >>GO TO 9.\n",
    " 9.CHECK INTERMITTENT INCIDENT\n",
    " Refer to GI-44, \"\n",
    " Intermittent Incident\n",
    " \"\n",
    " .\n",
    " >> INSPECTION END\n",
    "''',\n",
    "'''\n",
    "Preliminary Check\n",
    " Check the following:\n",
    " • Tires for improper air pressure and wear\n",
    " • Road wheels for runout: Refer to WT-60\n",
    " • Wheel bearing axial end play: Refer to RAX-3\n",
    " • Shock absorber operation\n",
    " • Each mounting point of axle and suspension for looseness and deformation\n",
    " (4WD).\n",
    " • Each of lower link, upper link, rear suspension member, suspension arm and shock absorber for cracks,\n",
    " deformation, and other damage\n",
    " • Vehicle height (posture)\n",
    " • Measure camber of both right and left wheels with a suitable alignment gauge.\n",
    " • If camber exceeds the standard value, adjust with adjusting bolt in\n",
    " lower. Refer to RSU-6, \"\n",
    " • Measure toe-in by the following procedure.\n",
    "''',\n",
    "'''\n",
    "1. Remove tires from vehicle.\n",
    " 2. Remove torque member mounting bolts. Hang torque member where it does not interfere with work. Refer\n",
    " to BR-43, \"\n",
    " BRAKE CALIPER ASSEMBLY : Exploded View\n",
    " \"\n",
    " BLY : Exploded View\n",
    " \"\n",
    " (RHD).\n",
    " (LHD), BR-86, \"\n",
    " BRAKE CALIPER ASSEM\n",
    "CAUTION:\n",
    " Never depress brake pedal while brake caliper is removed.\n",
    " 3. Remove wheel sensor from axle housing. Refer to BRC-139, \"\n",
    " REAR WHEEL SENSOR : Exploded View\n",
    " \"\n",
    " .\n",
    " 4. Set suitable jack under suspension arm.\n",
    " 5. Remove shock absorber from suspension arm. Refer to RSU-9, \"\n",
    " Exploded View\n",
    " \"\n",
    " .\n",
    " 6. Remove lower link from suspension arm. Refer to RSU-13, \"\n",
    " Exploded View\n",
    " \"\n",
    " .\n",
    " 7. Remove upper link from suspension arm. Refer to RSU-15, \"\n",
    " Exploded View\n",
    " \"\n",
    " .\n",
    " 8. Remove drive shaft (4WD). Refer to RAX-14, \"\n",
    " Exploded View\n",
    " \"\n",
    " .\n",
    " 9. Remove coil spring from vehicle.\n",
    "''',\n",
    "'''\n",
    "3. Remove steering wheel bolt after steering is locked.\n",
    "4. Disconnect harness connector.\n",
    "5. Remove steering wheel with the steering wheel puller\n",
    "''',\n",
    "'''\n",
    "1. Set vehicle to the straight-ahead position.\n",
    "''',\n",
    "'''\n",
    "1. Remove outer socket lock nut and remove outer socket.\n",
    "2. Remove inner and outer boot clamps and remove boot.\n",
    "''',\n",
    "'''\n",
    " • Move joint up/down, left/right, and in the axial direction. Check for any rough movement or significant looseness.\n",
    " • Check boot for cracks or other damage, and also for grease leak\n",
    "age.\n",
    " • If a malfunction is found, disassemble drive shaft, and then replace\n",
    " with new one.\n",
    "''',\n",
    "'''\n",
    "Insert locating pin into vehicle side to position accelerator pedal assembly. Install mounting bolt to accelerator pedal assembly.\n",
    "''',\n",
    "'''\n",
    " Components to pay attention to include:\n",
    " 1. Shifter assembly cover to finisher\n",
    " 2. A/C control unit and cluster lid C\n",
    " 3. Wiring harnesses behind audio and A/C control unit\n",
    "'''\n",
    "]"
   ]
  },
  {
   "cell_type": "markdown",
   "metadata": {},
   "source": [
    "# Generate responses"
   ]
  },
  {
   "cell_type": "code",
   "execution_count": null,
   "metadata": {},
   "outputs": [],
   "source": [
    "FILES_DIR = r'./data'"
   ]
  },
  {
   "cell_type": "code",
   "execution_count": 10,
   "metadata": {},
   "outputs": [],
   "source": [
    "def load_db(files_dir):\n",
    "    parser = Parser()\n",
    "    emb_fn = CustomEmbeddingFunction()\n",
    "\n",
    "    client = chromadb.Client()\n",
    "    collection = client.create_collection(name=\"manuals\", embedding_function=emb_fn)\n",
    "    collection = fill_collection(collection, files_dir, parser)\n",
    "    \n",
    "    return collection"
   ]
  },
  {
   "cell_type": "code",
   "execution_count": 11,
   "metadata": {},
   "outputs": [],
   "source": [
    "def load_model():\n",
    "    model = Model()\n",
    "    return model"
   ]
  },
  {
   "cell_type": "code",
   "execution_count": 12,
   "metadata": {},
   "outputs": [
    {
     "name": "stderr",
     "output_type": "stream",
     "text": [
      "Fetching 30 files: 100%|██████████| 30/30 [00:00<00:00, 29845.62it/s]\n",
      "You're using a XLMRobertaTokenizerFast tokenizer. Please note that with a fast tokenizer, using the `__call__` method is faster than using a method to encode the text followed by a call to the `pad` method to get a padded encoding.\n",
      "Loading checkpoint shards: 100%|██████████| 2/2 [00:03<00:00,  1.67s/it]\n",
      "Device set to use cuda:0\n"
     ]
    }
   ],
   "source": [
    "db = load_db(FILES_DIR)\n",
    "model = load_model()"
   ]
  },
  {
   "cell_type": "code",
   "execution_count": 13,
   "metadata": {},
   "outputs": [],
   "source": [
    "responses = []"
   ]
  },
  {
   "cell_type": "code",
   "execution_count": 16,
   "metadata": {},
   "outputs": [
    {
     "name": "stderr",
     "output_type": "stream",
     "text": [
      "c:\\Users\\adamm\\Desktop\\HSE\\RAG\\.venv\\Lib\\site-packages\\transformers\\generation\\configuration_utils.py:628: UserWarning: `do_sample` is set to `False`. However, `temperature` is set to `0.0` -- this flag is only used in sample-based generation modes. You should set `do_sample=True` or unset `temperature`.\n",
      "  warnings.warn(\n"
     ]
    }
   ],
   "source": [
    "for query in queries:\n",
    "    rag_input = '\\n'.join(db.query(\n",
    "                query_texts=[query], \n",
    "                n_results=1\n",
    "            )['documents'][0])\n",
    "    response = model.generate(query=query, rag_input=rag_input)\n",
    "    responses.append(response)"
   ]
  },
  {
   "cell_type": "code",
   "execution_count": 35,
   "metadata": {},
   "outputs": [],
   "source": [
    "responses_wo_rag = []"
   ]
  },
  {
   "cell_type": "code",
   "execution_count": 36,
   "metadata": {},
   "outputs": [
    {
     "name": "stderr",
     "output_type": "stream",
     "text": [
      "c:\\Users\\adamm\\Desktop\\HSE\\RAG\\.venv\\Lib\\site-packages\\transformers\\generation\\configuration_utils.py:628: UserWarning: `do_sample` is set to `False`. However, `temperature` is set to `0.0` -- this flag is only used in sample-based generation modes. You should set `do_sample=True` or unset `temperature`.\n",
      "  warnings.warn(\n"
     ]
    }
   ],
   "source": [
    "for query in queries:\n",
    "    response = model.generate(query=query)\n",
    "    responses_wo_rag.append(response)"
   ]
  },
  {
   "cell_type": "markdown",
   "metadata": {},
   "source": [
    "# Example"
   ]
  },
  {
   "cell_type": "code",
   "execution_count": 42,
   "metadata": {},
   "outputs": [
    {
     "data": {
      "text/plain": [
       "'Rear seat belt warning lamp does not illuminate. How to diagnost it?'"
      ]
     },
     "execution_count": 42,
     "metadata": {},
     "output_type": "execute_result"
    }
   ],
   "source": [
    "queries[1]"
   ]
  },
  {
   "cell_type": "code",
   "execution_count": 43,
   "metadata": {},
   "outputs": [
    {
     "name": "stdout",
     "output_type": "stream",
     "text": [
      "If the rear seat belt warning lamp does not illuminate, it could be due to several reasons. Here are some steps to diagnose and potentially fix the issue:\n",
      "\n",
      "1. **Check the Fuse:**\n",
      "   - Locate the fuse box, which is usually found under the dashboard or in the engine compartment.\n",
      "   - Refer to the vehicle's manual to find the fuse that controls the rear seat belt warning lamp.\n",
      "   - Remove the fuse and check if it is blown. If it is, replace it with a fuse of the same rating.\n",
      "\n",
      "2. **Inspect the Bulb:**\n",
      "   - The bulb itself might be burnt out. Remove the bulb from the back of the lamp and check if it is working.\n",
      "   - If the bulb is burnt out, replace it with a new one of the same type (e.g., incandescent, LED).\n",
      "\n",
      "3. **Check the Wiring:**\n",
      "   - Inspect the wiring leading to the rear seat belt warning lamp for any visible damage, such as cuts, frays, or corrosion.\n",
      "   - If you find any damaged wiring, repair or replace the affected section.\n",
      "\n",
      "4. **Test the Switch:**\n",
      "   - The switch that activates the rear seat belt warning lamp might be faulty. Test the switch by using a multimeter to check for continuity.\n",
      "   - If the switch is not working, it may need to be replaced.\n",
      "\n",
      "5. **Check the Ground Connection:**\n",
      "   - Ensure that the lamp has a proper ground connection. A poor ground connection can cause the lamp not to illuminate.\n",
      "   - Check the ground wire and ensure it is securely connected to the vehicle's chassis.\n",
      "\n",
      "6. **Check the Instrument Cluster:**\n",
      "   - Sometimes, the issue might be with the instrument cluster itself. Check if the rear seat belt warning lamp is functioning correctly in other lights or indicators.\n",
      "   - If the instrument cluster is faulty, it may need to be repaired or replaced.\n",
      "\n",
      "7. **Consult the Vehicle's Manual:**\n",
      "   - Refer to the vehicle's manual for specific diagnostic procedures and fuse locations. The manual may also provide additional troubleshooting steps.\n",
      "\n",
      "If you are not comfortable performing these diagnostic steps, it is advisable to take your vehicle to a professional mechanic for further assistance. They can perform a more thorough diagnosis and ensure that the issue is resolved safely.\n"
     ]
    }
   ],
   "source": [
    "print(responses_wo_rag[1])"
   ]
  },
  {
   "cell_type": "code",
   "execution_count": 44,
   "metadata": {},
   "outputs": [
    {
     "name": "stdout",
     "output_type": "stream",
     "text": [
      "1. Check DTC of \"Air Bag Diagnosis Sensor Unit\" in \"Self Diagnosis Result\" using CONSULT. Is DTC detected?\n",
      "   - YES: Perform the trouble diagnosis related to the detected DTC. Refer to SRC-19, \"DTC Index\".\n",
      "   - NO: Go to step 2.\n",
      "\n",
      "2. Check DTC of \"Combination Meter\" in \"Self Diagnosis Result\" using CONSULT. Is DTC detected?\n",
      "   - YES: Perform the trouble diagnosis related to the detected DTC. Refer to MWI-40, \"DTC Index\".\n",
      "   - NO: Go to step 3.\n",
      "\n",
      "3. Check Combination Meter power supply and ground circuit. Refer to MWI-66, \"Combination Meter: Diagnosis Procedure\". Is the inspection result normal?\n",
      "   - YES: Go to step 4.\n",
      "   - NO: Repair or replace the malfunctioning parts.\n",
      "\n",
      "4. Check harness connector for disconnection, looseness or damage. Is the inspection result normal?\n",
      "   - YES: Go to step 5.\n",
      "   - NO: If damage, replace malfunctioning parts. If disconnection or looseness, securely lock the connector.\n",
      "\n",
      "5. Check wiring harness externals. Is the inspection result normal?\n",
      "   - YES: Go to step 6.\n",
      "   - NO: Replace malfunctioning parts.\n",
      "\n",
      "6. Check the applicable rear seat belt buckle switch. Refer to SBC-17, \"Diagnosis Procedure\". Is the inspection result normal?\n",
      "   - YES: Go to step 7.\n",
      "   - NO: Replace the applicable rear seat belt buckle.\n",
      "\n",
      "7. Replace Air Bag Diagnosis Sensor Unit. Check air bag warning lamp operation. Is the inspection result normal?\n",
      "   - YES: Inspection end.\n",
      "   - NO: Go to step 8.\n",
      "\n",
      "8. Replace Combination Meter. Refer to MWI-86, \"Removal and Installation\". Check air bag warning lamp operation. Is the inspection result normal?\n",
      "   - YES: Inspection end.\n",
      "   - NO: Go to step 9.\n",
      "\n",
      "9. If the problem persists after all the above steps, further investigation may be required. Consult a professional mechanic or the vehicle's service department for additional assistance.\n"
     ]
    }
   ],
   "source": [
    "print(responses[1])"
   ]
  },
  {
   "cell_type": "code",
   "execution_count": 45,
   "metadata": {},
   "outputs": [
    {
     "name": "stdout",
     "output_type": "stream",
     "text": [
      "\n",
      "Diagnosis Procedure\n",
      " 1.CHECK DTC OF “AIR BAG DIAGNOSIS SENSOR UNIT”     \n",
      "Check DTC in “Self Diagnosis Result” “Air bag diagnosis sensor unit” using CONSULT.\n",
      " Is DTC detected?\n",
      " YES >>Perform the trouble diagnosis related to the detected DTC. Refer to SRC-19, \"\n",
      " DTC\n",
      " Index\n",
      " \"\n",
      " .\n",
      " NO >>GO TO 2.\n",
      " 2.CHECK DTC OF “COMBINATION METER” \n",
      "Check DTC in “Self Diagnosis Result” “Air bag diagnosis sensor unit” using CONSULT.\n",
      " Is DTC detected?\n",
      " YES >>Perform the trouble diagnosis related to the detected DTC. Refer to MWI-40, \"\n",
      " DTC Index\n",
      " \"\n",
      " .\n",
      " NO >>GO TO 3\n",
      " 3.CHECK COMBINATION METER POWER SUPPLY AND GROUND CIRCUIT\n",
      " Check combination meter power supply and ground circuit. Refer to MWI-66, \"\n",
      " COMBINATION METER : Diag\n",
      "nosis Procedure\n",
      " \"\n",
      " .\n",
      " Is the inspection result normal?\n",
      " YES >>GO TO 4.\n",
      " NO >>Repair or replace the malfunctioning parts.\n",
      " 4.CHECK HARNESS CONNECTOR\n",
      " Check the harness connector for disconnection, looseness or damage.\n",
      " Is the inspection result normal?\n",
      " YES >>GO TO 5.\n",
      " NO-1 >>damage: Replace malfunctioning parts. \n",
      "NO-2 >>disconnection or looseness: Securely lock the connector.\n",
      " 5.CHECK WIRING HARNESS\n",
      " Check the wiring harness externals.\n",
      " Is the inspection result normal?\n",
      " YES >>GO TO 6.\n",
      " NO >>Replace malfunctioning parts.\n",
      " 6.CHECK REAR SEAT BELT BUCKLE SWITCH\n",
      " Check the applicable rear seat belt buckle switch. Refer to SBC-17, \"\n",
      " Diagnosis Procedure\n",
      " \"\n",
      " .\n",
      " Is the inspection result normal?\n",
      " YES >>GO TO 7.\n",
      " NO >>Replace the applicable rear seat belt buckle.\n",
      " 7.REPLACE AIR BAG DIAGNOSIS SENSOR UNIT\n",
      " 1. Replace air bag diagnosis sensor unit.\n",
      " 2. Check air bag warning lamp operation.\n",
      " Is the inspection result normal?\n",
      " YES >>INSPECTION END\n",
      " NO >>GO TO 8.\n",
      " 8.REPLACE COMBINATION METER\n",
      " 1. Replace combination meter. Refer to MWI-86, \"\n",
      " Removal and Installation\n",
      " \"\n",
      " .\n",
      " 2. Check air bag warning lamp operation.\n",
      " Is the inspection result normal?\n",
      " YES >>INSPECTION END\n",
      " NO >>GO TO 9.\n",
      " 9.CHECK INTERMITTENT INCIDENT\n",
      " Refer to GI-44, \"\n",
      " Intermittent Incident\n",
      " \"\n",
      " .\n",
      " >> INSPECTION END\n",
      "\n"
     ]
    }
   ],
   "source": [
    "print(gts[1])"
   ]
  },
  {
   "cell_type": "markdown",
   "metadata": {},
   "source": [
    "# Metrics"
   ]
  },
  {
   "cell_type": "code",
   "execution_count": 26,
   "metadata": {},
   "outputs": [],
   "source": [
    "from evaluate import load\n",
    "import numpy as np"
   ]
  },
  {
   "cell_type": "code",
   "execution_count": 5,
   "metadata": {},
   "outputs": [],
   "source": [
    "bertscore = load(\"bertscore\")"
   ]
  },
  {
   "cell_type": "code",
   "execution_count": 37,
   "metadata": {},
   "outputs": [],
   "source": [
    "metrics_wo_rag = bertscore.compute(predictions=responses_wo_rag, references=gts, lang=\"en\")"
   ]
  },
  {
   "cell_type": "code",
   "execution_count": 38,
   "metadata": {},
   "outputs": [
    {
     "name": "stdout",
     "output_type": "stream",
     "text": [
      "Precision: 0.788\n",
      "Recall: 0.840\n",
      "F1: 0.812\n"
     ]
    }
   ],
   "source": [
    "print(f\"Precision: {np.array(metrics_wo_rag['precision']).mean():.3f}\")\n",
    "print(f\"Recall: {np.array(metrics_wo_rag['recall']).mean():.3f}\")\n",
    "print(f\"F1: {np.array(metrics_wo_rag['f1']).mean():.3f}\")"
   ]
  },
  {
   "cell_type": "code",
   "execution_count": 21,
   "metadata": {},
   "outputs": [],
   "source": [
    "metrics = bertscore.compute(predictions=responses, references=gts, lang=\"en\")"
   ]
  },
  {
   "cell_type": "code",
   "execution_count": 29,
   "metadata": {},
   "outputs": [
    {
     "name": "stdout",
     "output_type": "stream",
     "text": [
      "Precision: 0.870\n",
      "Recall: 0.903\n",
      "F1: 0.886\n"
     ]
    }
   ],
   "source": [
    "print(f\"Precision: {np.array(metrics['precision']).mean():.3f}\")\n",
    "print(f\"Recall: {np.array(metrics['recall']).mean():.3f}\")\n",
    "print(f\"F1: {np.array(metrics['f1']).mean():.3f}\")"
   ]
  }
 ],
 "metadata": {
  "kernelspec": {
   "display_name": ".venv",
   "language": "python",
   "name": "python3"
  },
  "language_info": {
   "codemirror_mode": {
    "name": "ipython",
    "version": 3
   },
   "file_extension": ".py",
   "mimetype": "text/x-python",
   "name": "python",
   "nbconvert_exporter": "python",
   "pygments_lexer": "ipython3",
   "version": "3.12.0"
  }
 },
 "nbformat": 4,
 "nbformat_minor": 2
}
